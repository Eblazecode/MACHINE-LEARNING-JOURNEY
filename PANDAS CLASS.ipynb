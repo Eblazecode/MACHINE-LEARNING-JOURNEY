{
 "cells": [
  {
   "cell_type": "code",
   "execution_count": 7,
   "metadata": {},
   "outputs": [
    {
     "ename": "SyntaxError",
     "evalue": "(unicode error) 'unicodeescape' codec can't decode bytes in position 2-3: truncated \\UXXXXXXXX escape (2296236782.py, line 6)",
     "output_type": "error",
     "traceback": [
      "\u001b[1;36m  Cell \u001b[1;32mIn[7], line 6\u001b[1;36m\u001b[0m\n\u001b[1;33m    startups=pd.read_csv('C:\\Users/USER/Desktop/AI/MACHINE-LEARNING-JOURNEY/diamonds.csv')\u001b[0m\n\u001b[1;37m                                                                                         ^\u001b[0m\n\u001b[1;31mSyntaxError\u001b[0m\u001b[1;31m:\u001b[0m (unicode error) 'unicodeescape' codec can't decode bytes in position 2-3: truncated \\UXXXXXXXX escape\n"
     ]
    }
   ],
   "source": [
    "#PANDAS TOTURIAL\n",
    "#import dataset into pandas\n",
    "import numpy as np\n",
    "import matplotlib.pyplot as plt\n",
    "import pandas as pd\n",
    "startups=pd.read_csv('C:\\Users/USER/Desktop/AI/MACHINE-LEARNING-JOURNEY/diamonds.csv')\n",
    "print(startups)\n",
    "print(startups.head()) #this print the heading an 5 basic of the dataset \n",
    "print (startups.tail()) #this print the tail an 5 basic ending of the dataset \n",
    "\n"
   ]
  },
  {
   "cell_type": "code",
   "execution_count": 8,
   "metadata": {
    "scrolled": false
   },
   "outputs": [
    {
     "ename": "NameError",
     "evalue": "name 'startups' is not defined",
     "output_type": "error",
     "traceback": [
      "\u001b[1;31m---------------------------------------------------------------------------\u001b[0m",
      "\u001b[1;31mNameError\u001b[0m                                 Traceback (most recent call last)",
      "\u001b[1;32mc:\\Users\\USER\\Desktop\\AI\\MACHINE-LEARNING-JOURNEY\\PANDAS CLASS.ipynb Cell 2\u001b[0m line \u001b[0;36m2\n\u001b[0;32m      <a href='vscode-notebook-cell:/c%3A/Users/USER/Desktop/AI/MACHINE-LEARNING-JOURNEY/PANDAS%20CLASS.ipynb#W1sZmlsZQ%3D%3D?line=0'>1</a>\u001b[0m \u001b[39m#CHOOSING SPECIFIC COLUMNS \u001b[39;00m\n\u001b[1;32m----> <a href='vscode-notebook-cell:/c%3A/Users/USER/Desktop/AI/MACHINE-LEARNING-JOURNEY/PANDAS%20CLASS.ipynb#W1sZmlsZQ%3D%3D?line=1'>2</a>\u001b[0m dat1 \u001b[39m=\u001b[39m startups[[\u001b[39m'\u001b[39m\u001b[39mProfit\u001b[39m\u001b[39m'\u001b[39m]]\n\u001b[0;32m      <a href='vscode-notebook-cell:/c%3A/Users/USER/Desktop/AI/MACHINE-LEARNING-JOURNEY/PANDAS%20CLASS.ipynb#W1sZmlsZQ%3D%3D?line=2'>3</a>\u001b[0m \u001b[39mprint\u001b[39m(dat1)\n\u001b[0;32m      <a href='vscode-notebook-cell:/c%3A/Users/USER/Desktop/AI/MACHINE-LEARNING-JOURNEY/PANDAS%20CLASS.ipynb#W1sZmlsZQ%3D%3D?line=3'>4</a>\u001b[0m dat2 \u001b[39m=\u001b[39m startups[[\u001b[39m'\u001b[39m\u001b[39mMarketing Spend\u001b[39m\u001b[39m'\u001b[39m]]\n",
      "\u001b[1;31mNameError\u001b[0m: name 'startups' is not defined"
     ]
    }
   ],
   "source": [
    "#CHOOSING SPECIFIC COLUMNS \n",
    "dat1 = startups[['Profit']]\n",
    "print(dat1)\n",
    "dat2 = startups[['Marketing Spend']]\n",
    "print(dat2)\n",
    "\n",
    "#A matplot to visualize the data for interpretation\n",
    "plt.title('50 startups inUS and their profit')\n",
    "plt.xlabel('profits')\n",
    "plt.ylabel('Marketing spend')\n",
    "plt.plot(dat1,dat2)\n",
    "plt.show()"
   ]
  },
  {
   "cell_type": "code",
   "execution_count": 2,
   "metadata": {},
   "outputs": [
    {
     "ename": "NameError",
     "evalue": "name 'startups' is not defined",
     "output_type": "error",
     "traceback": [
      "\u001b[1;31m---------------------------------------------------------------------------\u001b[0m",
      "\u001b[1;31mNameError\u001b[0m                                 Traceback (most recent call last)",
      "\u001b[1;32m<ipython-input-2-5d8c1ed984ae>\u001b[0m in \u001b[0;36m<module>\u001b[1;34m()\u001b[0m\n\u001b[0;32m      1\u001b[0m \u001b[1;31m#Filter for specific values in your dataframe\u001b[0m\u001b[1;33m\u001b[0m\u001b[1;33m\u001b[0m\u001b[0m\n\u001b[1;32m----> 2\u001b[1;33m \u001b[0mfilters\u001b[0m \u001b[1;33m=\u001b[0m\u001b[0mstartups\u001b[0m\u001b[1;33m.\u001b[0m\u001b[0mState\u001b[0m \u001b[1;33m==\u001b[0m \u001b[1;34m'California'\u001b[0m\u001b[1;33m\u001b[0m\u001b[0m\n\u001b[0m\u001b[0;32m      3\u001b[0m \u001b[0mprint\u001b[0m\u001b[1;33m(\u001b[0m\u001b[0mfilters\u001b[0m\u001b[1;33m)\u001b[0m\u001b[1;33m\u001b[0m\u001b[0m\n\u001b[0;32m      4\u001b[0m \u001b[0mdat4\u001b[0m\u001b[1;33m=\u001b[0m\u001b[0mstartups\u001b[0m\u001b[1;33m[\u001b[0m\u001b[0mfilters\u001b[0m\u001b[1;33m]\u001b[0m\u001b[1;33m\u001b[0m\u001b[0m\n\u001b[0;32m      5\u001b[0m \u001b[0mprint\u001b[0m\u001b[1;33m(\u001b[0m\u001b[0mdat4\u001b[0m\u001b[1;33m)\u001b[0m\u001b[1;33m\u001b[0m\u001b[0m\n",
      "\u001b[1;31mNameError\u001b[0m: name 'startups' is not defined"
     ]
    }
   ],
   "source": [
    "#Filter for specific values in your dataframe\n",
    "filters =startups.State == 'California'\n",
    "print(filters)\n",
    "dat4=startups[filters]\n",
    "print(dat4)"
   ]
  },
  {
   "cell_type": "code",
   "execution_count": 3,
   "metadata": {},
   "outputs": [
    {
     "ename": "NameError",
     "evalue": "name 'startups' is not defined",
     "output_type": "error",
     "traceback": [
      "\u001b[1;31m---------------------------------------------------------------------------\u001b[0m",
      "\u001b[1;31mNameError\u001b[0m                                 Traceback (most recent call last)",
      "\u001b[1;32m<ipython-input-3-2e4da32e4916>\u001b[0m in \u001b[0;36m<module>\u001b[1;34m()\u001b[0m\n\u001b[0;32m      1\u001b[0m \u001b[1;31m#DATA AGGREGATION\u001b[0m\u001b[1;33m\u001b[0m\u001b[1;33m\u001b[0m\u001b[0m\n\u001b[0;32m      2\u001b[0m \u001b[1;31m#counting the number of rows\u001b[0m\u001b[1;33m\u001b[0m\u001b[1;33m\u001b[0m\u001b[0m\n\u001b[1;32m----> 3\u001b[1;33m \u001b[0mdat5\u001b[0m\u001b[1;33m=\u001b[0m\u001b[0mstartups\u001b[0m\u001b[1;33m.\u001b[0m\u001b[0mcount\u001b[0m\u001b[1;33m(\u001b[0m\u001b[1;33m)\u001b[0m\u001b[1;33m\u001b[0m\u001b[0m\n\u001b[0m\u001b[0;32m      4\u001b[0m \u001b[0mprint\u001b[0m\u001b[1;33m(\u001b[0m\u001b[0mdat5\u001b[0m\u001b[1;33m)\u001b[0m\u001b[1;33m\u001b[0m\u001b[0m\n\u001b[0;32m      5\u001b[0m \u001b[1;31m#counting specific column\u001b[0m\u001b[1;33m\u001b[0m\u001b[1;33m\u001b[0m\u001b[0m\n",
      "\u001b[1;31mNameError\u001b[0m: name 'startups' is not defined"
     ]
    }
   ],
   "source": [
    "#DATA AGGREGATION \n",
    "#counting the number of rows\n",
    "dat5=startups.count()\n",
    "print(dat5)\n",
    "#counting specific column \n",
    "dat6=startups[['Profit']].count()\n",
    "print(dat6)\n",
    "\n",
    "#This also selects only one column, \n",
    "#but it turns our pandas dataframe object into a pandas series object\n",
    "dat7=startups.State.count()\n",
    "print(dat7)"
   ]
  },
  {
   "cell_type": "code",
   "execution_count": 4,
   "metadata": {},
   "outputs": [
    {
     "ename": "NameError",
     "evalue": "name 'startups' is not defined",
     "output_type": "error",
     "traceback": [
      "\u001b[1;31m---------------------------------------------------------------------------\u001b[0m",
      "\u001b[1;31mNameError\u001b[0m                                 Traceback (most recent call last)",
      "\u001b[1;32m<ipython-input-4-442ee4c7cd1b>\u001b[0m in \u001b[0;36m<module>\u001b[1;34m()\u001b[0m\n\u001b[0;32m      1\u001b[0m \u001b[1;31m#SUM FUNCTION\u001b[0m\u001b[1;33m\u001b[0m\u001b[1;33m\u001b[0m\u001b[0m\n\u001b[0;32m      2\u001b[0m \u001b[1;31m#summing up the entire dataset\u001b[0m\u001b[1;33m\u001b[0m\u001b[1;33m\u001b[0m\u001b[0m\n\u001b[1;32m----> 3\u001b[1;33m \u001b[0mdat8\u001b[0m\u001b[1;33m=\u001b[0m \u001b[0mstartups\u001b[0m\u001b[1;33m.\u001b[0m\u001b[0msum\u001b[0m\u001b[1;33m(\u001b[0m\u001b[1;33m)\u001b[0m\u001b[1;33m\u001b[0m\u001b[0m\n\u001b[0m\u001b[0;32m      4\u001b[0m \u001b[0mprint\u001b[0m\u001b[1;33m(\u001b[0m\u001b[0mdat8\u001b[0m\u001b[1;33m)\u001b[0m\u001b[1;33m\u001b[0m\u001b[0m\n\u001b[0;32m      5\u001b[0m \u001b[1;31m#summing up a particular column\u001b[0m\u001b[1;33m\u001b[0m\u001b[1;33m\u001b[0m\u001b[0m\n",
      "\u001b[1;31mNameError\u001b[0m: name 'startups' is not defined"
     ]
    }
   ],
   "source": [
    "#SUM FUNCTION \n",
    "#summing up the entire dataset\n",
    "dat8= startups.sum()\n",
    "print(dat8)\n",
    "#summing up a particular column\n",
    "dat9= startups.Profit.sum()\n",
    "print(dat9)"
   ]
  },
  {
   "cell_type": "code",
   "execution_count": 20,
   "metadata": {},
   "outputs": [
    {
     "name": "stdout",
     "output_type": "stream",
     "text": [
      "14681.4\n",
      "192261.83\n"
     ]
    }
   ],
   "source": [
    "#MAXIMUM AND MINIMUM VALUE\n",
    "dat10=startups.Profit.min()\n",
    "print(dat10)\n",
    "dat_max=startups.Profit.max()\n",
    "print( dat_max)"
   ]
  },
  {
   "cell_type": "code",
   "execution_count": 24,
   "metadata": {},
   "outputs": [
    {
     "name": "stdout",
     "output_type": "stream",
     "text": [
      "121344.63959999995\n",
      "Profit    107978.19\n",
      "dtype: float64\n",
      "           R&D Spend  Administration  Marketing Spend\n",
      "Profit                                               \n",
      "14681.40        0.00       116983.80         45173.06\n",
      "35673.41      542.05        51743.15             0.00\n",
      "42559.73        0.00       135426.92             0.00\n",
      "49490.75     1315.46       115816.21        297114.46\n",
      "64926.08     1000.23       124153.04          1903.93\n",
      "65200.33    22177.74       154806.14         28334.72\n",
      "69758.98    15505.73       127382.30         35534.17\n",
      "71498.49    23640.93        96189.63        148001.11\n",
      "77798.83    27892.92        84710.77        164470.71\n",
      "78239.91    28754.33       118546.05        172795.67\n",
      "81005.76    38558.51        82982.09        174999.30\n",
      "81229.06    20229.59        65947.93        185265.10\n",
      "89949.14    44069.95        51283.14        197029.42\n",
      "90708.19    28663.76       127056.21        201126.82\n",
      "96479.51    46014.02        85047.44        205517.64\n",
      "96712.80    46426.07       157693.92        210797.67\n",
      "96778.92    55493.95       103057.49        214634.81\n",
      "97427.84    63408.86       129219.61         46085.25\n",
      "97483.56    61136.38       152701.92         88218.23\n",
      "99937.59    61994.48       115641.28         91131.24\n",
      "101004.64   65605.48       153032.06        107138.38\n",
      "103282.38   66051.52       182645.56        118148.20\n",
      "105008.31   72107.60       127864.55        353183.81\n",
      "105733.54   75328.87       144135.98        134050.07\n",
      "107404.34   64664.71       139553.16        137962.62\n",
      "108552.04   77044.01        99281.34        140574.81\n",
      "108733.99   67532.53       105751.03        304768.73\n",
      "110352.25   73994.56       122782.75        303319.26\n",
      "111313.02   78389.47       153773.43        299737.29\n",
      "118474.03   76253.86       113867.30        298664.47\n",
      "122776.86   86419.70       153514.11             0.00\n",
      "124266.90   91749.16       114175.79        294919.57\n",
      "125370.37   94657.16       145077.58        282574.31\n",
      "126992.93   78013.11       121597.55        264346.06\n",
      "129917.04  114523.61       122616.84        261776.23\n",
      "132602.65  119943.24       156547.42        256512.92\n",
      "134307.35   91992.39       135495.07        252664.93\n",
      "141585.52   93863.75       127320.38        249839.44\n",
      "144259.40  100671.96        91790.61        249744.55\n",
      "146121.95  101913.08       110594.11        229160.95\n",
      "149759.96  123334.88       108679.17        304981.62\n",
      "152211.77  120542.52       148718.95        311613.29\n",
      "155752.60  130298.13       145530.06        323876.68\n",
      "156122.51  134615.46       147198.87        127716.82\n",
      "156991.12  131876.90        99814.71        362861.36\n",
      "166187.94  142107.34        91391.77        366168.42\n",
      "182901.99  144372.41       118671.85        383199.62\n",
      "191050.39  153441.51       101145.55        407934.54\n",
      "191792.06  162597.70       151377.59        443898.53\n",
      "192261.83  165349.20       136897.80        471784.10\n"
     ]
    }
   ],
   "source": [
    "#MEDIAN AND MEAN OF DATAFRAME \n",
    "dat11= startups.Administration.mean()\n",
    "print(dat11)\n",
    "#dispalying the data in object not series\n",
    "dat12=startups[['Profit']].median()\n",
    "print(dat12)\n",
    "#SEGMENTATION -- GROUPBY()\n",
    "dat12=startups.groupby('Profit').mean()\n",
    "print(dat12)"
   ]
  },
  {
   "cell_type": "code",
   "execution_count": null,
   "metadata": {},
   "outputs": [],
   "source": []
  }
 ],
 "metadata": {
  "kernelspec": {
   "display_name": "Python 3",
   "language": "python",
   "name": "python3"
  },
  "language_info": {
   "codemirror_mode": {
    "name": "ipython",
    "version": 3
   },
   "file_extension": ".py",
   "mimetype": "text/x-python",
   "name": "python",
   "nbconvert_exporter": "python",
   "pygments_lexer": "ipython3",
   "version": "3.11.5"
  }
 },
 "nbformat": 4,
 "nbformat_minor": 2
}
