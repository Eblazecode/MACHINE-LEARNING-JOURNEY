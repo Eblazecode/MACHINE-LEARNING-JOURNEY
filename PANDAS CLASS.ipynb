{
 "cells": [
  {
   "cell_type": "code",
   "execution_count": 1,
   "metadata": {},
   "outputs": [
    {
     "name": "stdout",
     "output_type": "stream",
     "text": [
      "    R&D Spend  Administration  Marketing Spend       State     Profit\n",
      "0   165349.20       136897.80        471784.10    New York  192261.83\n",
      "1   162597.70       151377.59        443898.53  California  191792.06\n",
      "2   153441.51       101145.55        407934.54     Florida  191050.39\n",
      "3   144372.41       118671.85        383199.62    New York  182901.99\n",
      "4   142107.34        91391.77        366168.42     Florida  166187.94\n",
      "5   131876.90        99814.71        362861.36    New York  156991.12\n",
      "6   134615.46       147198.87        127716.82  California  156122.51\n",
      "7   130298.13       145530.06        323876.68     Florida  155752.60\n",
      "8   120542.52       148718.95        311613.29    New York  152211.77\n",
      "9   123334.88       108679.17        304981.62  California  149759.96\n",
      "10  101913.08       110594.11        229160.95     Florida  146121.95\n",
      "11  100671.96        91790.61        249744.55  California  144259.40\n",
      "12   93863.75       127320.38        249839.44     Florida  141585.52\n",
      "13   91992.39       135495.07        252664.93  California  134307.35\n",
      "14  119943.24       156547.42        256512.92     Florida  132602.65\n",
      "15  114523.61       122616.84        261776.23    New York  129917.04\n",
      "16   78013.11       121597.55        264346.06  California  126992.93\n",
      "17   94657.16       145077.58        282574.31    New York  125370.37\n",
      "18   91749.16       114175.79        294919.57     Florida  124266.90\n",
      "19   86419.70       153514.11             0.00    New York  122776.86\n",
      "20   76253.86       113867.30        298664.47  California  118474.03\n",
      "21   78389.47       153773.43        299737.29    New York  111313.02\n",
      "22   73994.56       122782.75        303319.26     Florida  110352.25\n",
      "23   67532.53       105751.03        304768.73     Florida  108733.99\n",
      "24   77044.01        99281.34        140574.81    New York  108552.04\n",
      "25   64664.71       139553.16        137962.62  California  107404.34\n",
      "26   75328.87       144135.98        134050.07     Florida  105733.54\n",
      "27   72107.60       127864.55        353183.81    New York  105008.31\n",
      "28   66051.52       182645.56        118148.20     Florida  103282.38\n",
      "29   65605.48       153032.06        107138.38    New York  101004.64\n",
      "30   61994.48       115641.28         91131.24     Florida   99937.59\n",
      "31   61136.38       152701.92         88218.23    New York   97483.56\n",
      "32   63408.86       129219.61         46085.25  California   97427.84\n",
      "33   55493.95       103057.49        214634.81     Florida   96778.92\n",
      "34   46426.07       157693.92        210797.67  California   96712.80\n",
      "35   46014.02        85047.44        205517.64    New York   96479.51\n",
      "36   28663.76       127056.21        201126.82     Florida   90708.19\n",
      "37   44069.95        51283.14        197029.42  California   89949.14\n",
      "38   20229.59        65947.93        185265.10    New York   81229.06\n",
      "39   38558.51        82982.09        174999.30  California   81005.76\n",
      "40   28754.33       118546.05        172795.67  California   78239.91\n",
      "41   27892.92        84710.77        164470.71     Florida   77798.83\n",
      "42   23640.93        96189.63        148001.11  California   71498.49\n",
      "43   15505.73       127382.30         35534.17    New York   69758.98\n",
      "44   22177.74       154806.14         28334.72  California   65200.33\n",
      "45    1000.23       124153.04          1903.93    New York   64926.08\n",
      "46    1315.46       115816.21        297114.46     Florida   49490.75\n",
      "47       0.00       135426.92             0.00  California   42559.73\n",
      "48     542.05        51743.15             0.00    New York   35673.41\n",
      "49       0.00       116983.80         45173.06  California   14681.40\n",
      "   R&D Spend  Administration  Marketing Spend       State     Profit\n",
      "0  165349.20       136897.80        471784.10    New York  192261.83\n",
      "1  162597.70       151377.59        443898.53  California  191792.06\n",
      "2  153441.51       101145.55        407934.54     Florida  191050.39\n",
      "3  144372.41       118671.85        383199.62    New York  182901.99\n",
      "4  142107.34        91391.77        366168.42     Florida  166187.94\n",
      "    R&D Spend  Administration  Marketing Spend       State    Profit\n",
      "45    1000.23       124153.04          1903.93    New York  64926.08\n",
      "46    1315.46       115816.21        297114.46     Florida  49490.75\n",
      "47       0.00       135426.92             0.00  California  42559.73\n",
      "48     542.05        51743.15             0.00    New York  35673.41\n",
      "49       0.00       116983.80         45173.06  California  14681.40\n"
     ]
    }
   ],
   "source": [
    "#PANDAS TOTURIAL\n",
    "#import dataset into pandas\n",
    "import numpy as np\n",
    "import matplotlib.pyplot as plt\n",
    "import pandas as pd\n",
    "startups=pd.read_csv('C:/Users/Nas/Desktop/MACHINE LEARNING/Startups.csv')\n",
    "print(startups)\n",
    "print(startups.head()) #this print the heading an 5 basic of the dataset \n",
    "print (startups.tail()) #this print the tail an 5 basic ending of the dataset \n",
    "\n"
   ]
  },
  {
   "cell_type": "code",
   "execution_count": 2,
   "metadata": {
    "scrolled": false
   },
   "outputs": [
    {
     "name": "stdout",
     "output_type": "stream",
     "text": [
      "       Profit\n",
      "0   192261.83\n",
      "1   191792.06\n",
      "2   191050.39\n",
      "3   182901.99\n",
      "4   166187.94\n",
      "5   156991.12\n",
      "6   156122.51\n",
      "7   155752.60\n",
      "8   152211.77\n",
      "9   149759.96\n",
      "10  146121.95\n",
      "11  144259.40\n",
      "12  141585.52\n",
      "13  134307.35\n",
      "14  132602.65\n",
      "15  129917.04\n",
      "16  126992.93\n",
      "17  125370.37\n",
      "18  124266.90\n",
      "19  122776.86\n",
      "20  118474.03\n",
      "21  111313.02\n",
      "22  110352.25\n",
      "23  108733.99\n",
      "24  108552.04\n",
      "25  107404.34\n",
      "26  105733.54\n",
      "27  105008.31\n",
      "28  103282.38\n",
      "29  101004.64\n",
      "30   99937.59\n",
      "31   97483.56\n",
      "32   97427.84\n",
      "33   96778.92\n",
      "34   96712.80\n",
      "35   96479.51\n",
      "36   90708.19\n",
      "37   89949.14\n",
      "38   81229.06\n",
      "39   81005.76\n",
      "40   78239.91\n",
      "41   77798.83\n",
      "42   71498.49\n",
      "43   69758.98\n",
      "44   65200.33\n",
      "45   64926.08\n",
      "46   49490.75\n",
      "47   42559.73\n",
      "48   35673.41\n",
      "49   14681.40\n",
      "    Marketing Spend\n",
      "0         471784.10\n",
      "1         443898.53\n",
      "2         407934.54\n",
      "3         383199.62\n",
      "4         366168.42\n",
      "5         362861.36\n",
      "6         127716.82\n",
      "7         323876.68\n",
      "8         311613.29\n",
      "9         304981.62\n",
      "10        229160.95\n",
      "11        249744.55\n",
      "12        249839.44\n",
      "13        252664.93\n",
      "14        256512.92\n",
      "15        261776.23\n",
      "16        264346.06\n",
      "17        282574.31\n",
      "18        294919.57\n",
      "19             0.00\n",
      "20        298664.47\n",
      "21        299737.29\n",
      "22        303319.26\n",
      "23        304768.73\n",
      "24        140574.81\n",
      "25        137962.62\n",
      "26        134050.07\n",
      "27        353183.81\n",
      "28        118148.20\n",
      "29        107138.38\n",
      "30         91131.24\n",
      "31         88218.23\n",
      "32         46085.25\n",
      "33        214634.81\n",
      "34        210797.67\n",
      "35        205517.64\n",
      "36        201126.82\n",
      "37        197029.42\n",
      "38        185265.10\n",
      "39        174999.30\n",
      "40        172795.67\n",
      "41        164470.71\n",
      "42        148001.11\n",
      "43         35534.17\n",
      "44         28334.72\n",
      "45          1903.93\n",
      "46        297114.46\n",
      "47             0.00\n",
      "48             0.00\n",
      "49         45173.06\n"
     ]
    },
    {
     "data": {
      "image/png": "[encoded data removed]",
      "text/plain": [
       "<Figure size 432x288 with 1 Axes>"
      ]
     },
     "metadata": {
      "needs_background": "light"
     },
     "output_type": "display_data"
    }
   ],
   "source": [
    "#CHOOSING SPECIFIC COLUMNS \n",
    "dat1 = startups[['Profit']]\n",
    "print(dat1)\n",
    "dat2 = startups[['Marketing Spend']]\n",
    "print(dat2)\n",
    "\n",
    "#A matplot to visualize the data for interpretation\n",
    "plt.title('50 startups inUS and their profit')\n",
    "plt.xlabel('profits')\n",
    "plt.ylabel('Marketing spend')\n",
    "plt.plot(dat1,dat2)\n",
    "plt.show()"
   ]
  },
  {
   "cell_type": "code",
   "execution_count": 2,
   "metadata": {},
   "outputs": [
    {
     "ename": "NameError",
     "evalue": "name 'startups' is not defined",
     "output_type": "error",
     "traceback": [
      "\u001b[1;31m---------------------------------------------------------------------------\u001b[0m",
      "\u001b[1;31mNameError\u001b[0m                                 Traceback (most recent call last)",
      "\u001b[1;32m<ipython-input-2-5d8c1ed984ae>\u001b[0m in \u001b[0;36m<module>\u001b[1;34m()\u001b[0m\n\u001b[0;32m      1\u001b[0m \u001b[1;31m#Filter for specific values in your dataframe\u001b[0m\u001b[1;33m\u001b[0m\u001b[1;33m\u001b[0m\u001b[0m\n\u001b[1;32m----> 2\u001b[1;33m \u001b[0mfilters\u001b[0m \u001b[1;33m=\u001b[0m\u001b[0mstartups\u001b[0m\u001b[1;33m.\u001b[0m\u001b[0mState\u001b[0m \u001b[1;33m==\u001b[0m \u001b[1;34m'California'\u001b[0m\u001b[1;33m\u001b[0m\u001b[0m\n\u001b[0m\u001b[0;32m      3\u001b[0m \u001b[0mprint\u001b[0m\u001b[1;33m(\u001b[0m\u001b[0mfilters\u001b[0m\u001b[1;33m)\u001b[0m\u001b[1;33m\u001b[0m\u001b[0m\n\u001b[0;32m      4\u001b[0m \u001b[0mdat4\u001b[0m\u001b[1;33m=\u001b[0m\u001b[0mstartups\u001b[0m\u001b[1;33m[\u001b[0m\u001b[0mfilters\u001b[0m\u001b[1;33m]\u001b[0m\u001b[1;33m\u001b[0m\u001b[0m\n\u001b[0;32m      5\u001b[0m \u001b[0mprint\u001b[0m\u001b[1;33m(\u001b[0m\u001b[0mdat4\u001b[0m\u001b[1;33m)\u001b[0m\u001b[1;33m\u001b[0m\u001b[0m\n",
      "\u001b[1;31mNameError\u001b[0m: name 'startups' is not defined"
     ]
    }
   ],
   "source": [
    "#Filter for specific values in your dataframe\n",
    "filters =startups.State == 'California'\n",
    "print(filters)\n",
    "dat4=startups[filters]\n",
    "print(dat4)"
   ]
  },
  {
   "cell_type": "code",
   "execution_count": 3,
   "metadata": {},
   "outputs": [
    {
     "ename": "NameError",
     "evalue": "name 'startups' is not defined",
     "output_type": "error",
     "traceback": [
      "\u001b[1;31m---------------------------------------------------------------------------\u001b[0m",
      "\u001b[1;31mNameError\u001b[0m                                 Traceback (most recent call last)",
      "\u001b[1;32m<ipython-input-3-2e4da32e4916>\u001b[0m in \u001b[0;36m<module>\u001b[1;34m()\u001b[0m\n\u001b[0;32m      1\u001b[0m \u001b[1;31m#DATA AGGREGATION\u001b[0m\u001b[1;33m\u001b[0m\u001b[1;33m\u001b[0m\u001b[0m\n\u001b[0;32m      2\u001b[0m \u001b[1;31m#counting the number of rows\u001b[0m\u001b[1;33m\u001b[0m\u001b[1;33m\u001b[0m\u001b[0m\n\u001b[1;32m----> 3\u001b[1;33m \u001b[0mdat5\u001b[0m\u001b[1;33m=\u001b[0m\u001b[0mstartups\u001b[0m\u001b[1;33m.\u001b[0m\u001b[0mcount\u001b[0m\u001b[1;33m(\u001b[0m\u001b[1;33m)\u001b[0m\u001b[1;33m\u001b[0m\u001b[0m\n\u001b[0m\u001b[0;32m      4\u001b[0m \u001b[0mprint\u001b[0m\u001b[1;33m(\u001b[0m\u001b[0mdat5\u001b[0m\u001b[1;33m)\u001b[0m\u001b[1;33m\u001b[0m\u001b[0m\n\u001b[0;32m      5\u001b[0m \u001b[1;31m#counting specific column\u001b[0m\u001b[1;33m\u001b[0m\u001b[1;33m\u001b[0m\u001b[0m\n",
      "\u001b[1;31mNameError\u001b[0m: name 'startups' is not defined"
     ]
    }
   ],
   "source": [
    "#DATA AGGREGATION \n",
    "#counting the number of rows\n",
    "dat5=startups.count()\n",
    "print(dat5)\n",
    "#counting specific column \n",
    "dat6=startups[['Profit']].count()\n",
    "print(dat6)\n",
    "\n",
    "#This also selects only one column, \n",
    "#but it turns our pandas dataframe object into a pandas series object\n",
    "dat7=startups.State.count()\n",
    "print(dat7)"
   ]
  },
  {
   "cell_type": "code",
   "execution_count": 4,
   "metadata": {},
   "outputs": [
    {
     "ename": "NameError",
     "evalue": "name 'startups' is not defined",
     "output_type": "error",
     "traceback": [
      "\u001b[1;31m---------------------------------------------------------------------------\u001b[0m",
      "\u001b[1;31mNameError\u001b[0m                                 Traceback (most recent call last)",
      "\u001b[1;32m<ipython-input-4-442ee4c7cd1b>\u001b[0m in \u001b[0;36m<module>\u001b[1;34m()\u001b[0m\n\u001b[0;32m      1\u001b[0m \u001b[1;31m#SUM FUNCTION\u001b[0m\u001b[1;33m\u001b[0m\u001b[1;33m\u001b[0m\u001b[0m\n\u001b[0;32m      2\u001b[0m \u001b[1;31m#summing up the entire dataset\u001b[0m\u001b[1;33m\u001b[0m\u001b[1;33m\u001b[0m\u001b[0m\n\u001b[1;32m----> 3\u001b[1;33m \u001b[0mdat8\u001b[0m\u001b[1;33m=\u001b[0m \u001b[0mstartups\u001b[0m\u001b[1;33m.\u001b[0m\u001b[0msum\u001b[0m\u001b[1;33m(\u001b[0m\u001b[1;33m)\u001b[0m\u001b[1;33m\u001b[0m\u001b[0m\n\u001b[0m\u001b[0;32m      4\u001b[0m \u001b[0mprint\u001b[0m\u001b[1;33m(\u001b[0m\u001b[0mdat8\u001b[0m\u001b[1;33m)\u001b[0m\u001b[1;33m\u001b[0m\u001b[0m\n\u001b[0;32m      5\u001b[0m \u001b[1;31m#summing up a particular column\u001b[0m\u001b[1;33m\u001b[0m\u001b[1;33m\u001b[0m\u001b[0m\n",
      "\u001b[1;31mNameError\u001b[0m: name 'startups' is not defined"
     ]
    }
   ],
   "source": [
    "#SUM FUNCTION \n",
    "#summing up the entire dataset\n",
    "dat8= startups.sum()\n",
    "print(dat8)\n",
    "#summing up a particular column\n",
    "dat9= startups.Profit.sum()\n",
    "print(dat9)"
   ]
  },
  {
   "cell_type": "code",
   "execution_count": 20,
   "metadata": {},
   "outputs": [
    {
     "name": "stdout",
     "output_type": "stream",
     "text": [
      "14681.4\n",
      "192261.83\n"
     ]
    }
   ],
   "source": [
    "#MAXIMUM AND MINIMUM VALUE\n",
    "dat10=startups.Profit.min()\n",
    "print(dat10)\n",
    "dat_max=startups.Profit.max()\n",
    "print( dat_max)"
   ]
  },
  {
   "cell_type": "code",
   "execution_count": 24,
   "metadata": {},
   "outputs": [
    {
     "name": "stdout",
     "output_type": "stream",
     "text": [
      "121344.63959999995\n",
      "Profit    107978.19\n",
      "dtype: float64\n",
      "           R&D Spend  Administration  Marketing Spend\n",
      "Profit                                               \n",
      "14681.40        0.00       116983.80         45173.06\n",
      "35673.41      542.05        51743.15             0.00\n",
      "42559.73        0.00       135426.92             0.00\n",
      "49490.75     1315.46       115816.21        297114.46\n",
      "64926.08     1000.23       124153.04          1903.93\n",
      "65200.33    22177.74       154806.14         28334.72\n",
      "69758.98    15505.73       127382.30         35534.17\n",
      "71498.49    23640.93        96189.63        148001.11\n",
      "77798.83    27892.92        84710.77        164470.71\n",
      "78239.91    28754.33       118546.05        172795.67\n",
      "81005.76    38558.51        82982.09        174999.30\n",
      "81229.06    20229.59        65947.93        185265.10\n",
      "89949.14    44069.95        51283.14        197029.42\n",
      "90708.19    28663.76       127056.21        201126.82\n",
      "96479.51    46014.02        85047.44        205517.64\n",
      "96712.80    46426.07       157693.92        210797.67\n",
      "96778.92    55493.95       103057.49        214634.81\n",
      "97427.84    63408.86       129219.61         46085.25\n",
      "97483.56    61136.38       152701.92         88218.23\n",
      "99937.59    61994.48       115641.28         91131.24\n",
      "101004.64   65605.48       153032.06        107138.38\n",
      "103282.38   66051.52       182645.56        118148.20\n",
      "105008.31   72107.60       127864.55        353183.81\n",
      "105733.54   75328.87       144135.98        134050.07\n",
      "107404.34   64664.71       139553.16        137962.62\n",
      "108552.04   77044.01        99281.34        140574.81\n",
      "108733.99   67532.53       105751.03        304768.73\n",
      "110352.25   73994.56       122782.75        303319.26\n",
      "111313.02   78389.47       153773.43        299737.29\n",
      "118474.03   76253.86       113867.30        298664.47\n",
      "122776.86   86419.70       153514.11             0.00\n",
      "124266.90   91749.16       114175.79        294919.57\n",
      "125370.37   94657.16       145077.58        282574.31\n",
      "126992.93   78013.11       121597.55        264346.06\n",
      "129917.04  114523.61       122616.84        261776.23\n",
      "132602.65  119943.24       156547.42        256512.92\n",
      "134307.35   91992.39       135495.07        252664.93\n",
      "141585.52   93863.75       127320.38        249839.44\n",
      "144259.40  100671.96        91790.61        249744.55\n",
      "146121.95  101913.08       110594.11        229160.95\n",
      "149759.96  123334.88       108679.17        304981.62\n",
      "152211.77  120542.52       148718.95        311613.29\n",
      "155752.60  130298.13       145530.06        323876.68\n",
      "156122.51  134615.46       147198.87        127716.82\n",
      "156991.12  131876.90        99814.71        362861.36\n",
      "166187.94  142107.34        91391.77        366168.42\n",
      "182901.99  144372.41       118671.85        383199.62\n",
      "191050.39  153441.51       101145.55        407934.54\n",
      "191792.06  162597.70       151377.59        443898.53\n",
      "192261.83  165349.20       136897.80        471784.10\n"
     ]
    }
   ],
   "source": [
    "#MEDIAN AND MEAN OF DATAFRAME \n",
    "dat11= startups.Administration.mean()\n",
    "print(dat11)\n",
    "#dispalying the data in object not series\n",
    "dat12=startups[['Profit']].median()\n",
    "print(dat12)\n",
    "#SEGMENTATION -- GROUPBY()\n",
    "dat12=startups.groupby('Profit').mean()\n",
    "print(dat12)"
   ]
  },
  {
   "cell_type": "code",
   "execution_count": null,
   "metadata": {},
   "outputs": [],
   "source": []
  }
 ],
 "metadata": {
  "kernelspec": {
   "display_name": "Python 3",
   "language": "python",
   "name": "python3"
  },
  "language_info": {
   "codemirror_mode": {
    "name": "ipython",
    "version": 3
   },
   "file_extension": ".py",
   "mimetype": "text/x-python",
   "name": "python",
   "nbconvert_exporter": "python",
   "pygments_lexer": "ipython3",
   "version": "3.7.0"
  }
 },
 "nbformat": 4,
 "nbformat_minor": 2
}
