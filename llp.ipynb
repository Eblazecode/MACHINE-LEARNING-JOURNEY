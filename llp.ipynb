{
 "cells": [
  {
   "cell_type": "code",
   "execution_count": 1,
   "metadata": {},
   "outputs": [
    {
     "ename": "ModuleNotFoundError",
     "evalue": "No module named 'ortools'",
     "output_type": "error",
     "traceback": [
      "\u001b[1;31m---------------------------------------------------------------------------\u001b[0m",
      "\u001b[1;31mModuleNotFoundError\u001b[0m                       Traceback (most recent call last)",
      "\u001b[1;32mc:\\Users\\USER\\Desktop\\AI\\llp.ipynb Cell 1\u001b[0m line \u001b[0;36m3\n\u001b[0;32m      <a href='vscode-notebook-cell:/c%3A/Users/USER/Desktop/AI/llp.ipynb#W0sZmlsZQ%3D%3D?line=0'>1</a>\u001b[0m \u001b[39m#Create the solver\u001b[39;00m\n\u001b[1;32m----> <a href='vscode-notebook-cell:/c%3A/Users/USER/Desktop/AI/llp.ipynb#W0sZmlsZQ%3D%3D?line=2'>3</a>\u001b[0m \u001b[39mfrom\u001b[39;00m \u001b[39mortools\u001b[39;00m\u001b[39m.\u001b[39;00m\u001b[39mlinear_solver\u001b[39;00m \u001b[39mimport\u001b[39;00m pywraplp\n\u001b[0;32m      <a href='vscode-notebook-cell:/c%3A/Users/USER/Desktop/AI/llp.ipynb#W0sZmlsZQ%3D%3D?line=3'>4</a>\u001b[0m \u001b[39mfrom\u001b[39;00m \u001b[39mortools\u001b[39;00m\u001b[39m.\u001b[39;00m\u001b[39minit\u001b[39;00m \u001b[39mimport\u001b[39;00m pywrapinit\n\u001b[0;32m      <a href='vscode-notebook-cell:/c%3A/Users/USER/Desktop/AI/llp.ipynb#W0sZmlsZQ%3D%3D?line=6'>7</a>\u001b[0m solver \u001b[39m=\u001b[39m pywraplp\u001b[39m.\u001b[39mSolver\u001b[39m.\u001b[39mCreateSolver(\u001b[39m'\u001b[39m\u001b[39mGLOP\u001b[39m\u001b[39m'\u001b[39m)\n",
      "\u001b[1;31mModuleNotFoundError\u001b[0m: No module named 'ortools'"
     ]
    }
   ],
   "source": [
    "\n",
    "#Create the solver\n",
    "\n",
    "from ortools.linear_solver import pywraplp\n",
    "from ortools.init import pywrapinit\n",
    "\n",
    "\n",
    "solver = pywraplp.Solver.CreateSolver('GLOP')\n",
    "\n",
    "# Create the variables x and y.\n",
    "#The first two constraints, 0 ≤ x ≤ infinity and 0 ≤ y ≤ infinity\n",
    "x = solver.NumVar(0, solver.infinity(), 'x')\n",
    "y = solver.NumVar(0, solver.infinity(), 'y')\n",
    "print('Number of variables =', solver.NumVariables())\n",
    "\n",
    "solver.Add(x + 2*y <= 14.0) \n",
    "solver.Add(3*x - y >= 0.0)\n",
    "solver.Add(x - y <= 2.0)\n",
    "\n",
    "print('Number of constraints =', solver.NumConstraints())\n",
    "\n",
    "# Create the objective function, 3 * x + y.\n",
    "solver.Maximize(3*x + 4*y)\n",
    "status = solver.Solve()\n",
    "\n",
    "if status == pywraplp.Solver.OPTIMAL:\n",
    "    print('\\nSolution: OPTIMAL')\n",
    "    print('Objective value =', solver.Objective().Value())\n",
    "    print('x =', x.solution_value())\n",
    "    print('y =', y.solution_value())\n",
    "else:\n",
    "    print(\"The problem does not have an optimal solution\")\n",
    "\n",
    "print('\\nAdvanced usage:')\n",
    "print('Problem solved in %f milliseconds' % solver.wall_time())\n",
    "print('Problem solved in %d iterations' % solver.iterations())\n"
   ]
  }
 ],
 "metadata": {
  "kernelspec": {
   "display_name": "base",
   "language": "python",
   "name": "python3"
  },
  "language_info": {
   "codemirror_mode": {
    "name": "ipython",
    "version": 3
   },
   "file_extension": ".py",
   "mimetype": "text/x-python",
   "name": "python",
   "nbconvert_exporter": "python",
   "pygments_lexer": "ipython3",
   "version": "3.11.5"
  }
 },
 "nbformat": 4,
 "nbformat_minor": 2
}
