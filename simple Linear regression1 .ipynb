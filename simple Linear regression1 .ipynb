{
 "cells": [
  {
   "cell_type": "code",
   "execution_count": null,
   "metadata": {},
   "outputs": [],
   "source": [
    "import numpy as np\n",
    "import matplotlib.pyplot as plt\n",
    "import pandas as pd \n",
    "import statsmodels.api as sm\n",
    "from sklearn.linear_model import LinearRegression\n",
    "from sklearn.metrics import r2_score\n",
    "print(\"WELCOME TO  MY FIRST ML SIMPLE LINEAR REGRESSION MODEL\")\n",
    "print(\"OBJECTIVE: TO CHECK THE CORRELATION BETWEEN ADVERT AND SALES\")\n",
    "print()\n",
    "\n",
    "#DATA CLEANING\n",
    "\n",
    "datasets= pd.read_csv(\"C:/Users/HP/Desktop/machine learning/Advertising.csv\")\n",
    "print(datasets.head())\n",
    "\n",
    "#column Unnamed: 0 is redundant. Hence, we remove it.\n",
    "new_dataset = datasets.drop(['Unnamed: 0'], axis=1)\n",
    "print(new_dataset)\n",
    "\n"
   ]
  },
  {
   "cell_type": "code",
   "execution_count": null,
   "metadata": {},
   "outputs": [],
   "source": [
    "#NEW DATASET TO BE USED\n",
    "print(new_dataset.head())\n"
   ]
  },
  {
   "cell_type": "code",
   "execution_count": null,
   "metadata": {},
   "outputs": [],
   "source": [
    "#MODELLING: considering the effect of TV adverts on sales\n",
    "#visualizaton of data\n",
    "Tv_ads = new_dataset['TV']\n",
    "Sales = new_dataset['sales']\n",
    "plt.xlabel(\"Money spent on sales\")\n",
    "plt.ylabel(\"ales TV ads\")\n",
    "plt.figure(figsize=(13,8))\n",
    "plt.scatter(Sales,Tv_ads)\n",
    "plt.show()"
   ]
  },
  {
   "cell_type": "code",
   "execution_count": null,
   "metadata": {},
   "outputs": [],
   "source": [
    "#THE MODEL:SIMPLE LINEAR REGRESSION \n",
    "x = Tv_ads.values.reshape(-1,1)\n",
    "y = Sales.values.reshape (-1,1)\n",
    "model= LinearRegression()\n",
    "# fit parameter finds the value of the weights bo & b1\n",
    "model.fit(x,y)\n",
    "\n",
    "R_sq = model.score(x,y)\n",
    "print(\"cofficient of determination Rsq =\" ,R_sq)"
   ]
  },
  {
   "cell_type": "code",
   "execution_count": null,
   "metadata": {},
   "outputs": [],
   "source": [
    "#MODEL INTERCEPT AND COEFFICIENT\n",
    "intercept = model.intercept_\n",
    "coeff = model.coef_\n",
    "print(\"intercept :\", intercept)\n",
    "print(\"slope:\",coeff) #usually print in the form of an array\n",
    "print (\"The function is f(x)=  x\",coeff,\"+\",intercept)     "
   ]
  },
  {
   "cell_type": "code",
   "execution_count": null,
   "metadata": {},
   "outputs": [],
   "source": [
    "#PREDICTION\n",
    "prediction = model.predict(x)\n",
    "plt.figure(figsize=(12,8))\n",
    "plt.scatter(x,y, c=\"black\")\n",
    "plt.plot(x,prediction,c=\"red\",linewidth=3)\n",
    "plt.xlabel(\"money spent on TV ads\")\n",
    "plt.ylabel(\"sales by TV ads\")\n",
    "plt.show()"
   ]
  },
  {
   "cell_type": "code",
   "execution_count": null,
   "metadata": {},
   "outputs": [],
   "source": [
    "#Assessing the relevancy of the model\n",
    "X2 = sm.add_constant(x)\n",
    "est = sm.OLS(y, X2)\n",
    "est2 = est.fit()\n",
    "print(est2.summary())"
   ]
  },
  {
   "cell_type": "code",
   "execution_count": null,
   "metadata": {},
   "outputs": [],
   "source": []
  }
 ],
 "metadata": {
  "kernelspec": {
   "display_name": "Python 3",
   "language": "python",
   "name": "python3"
  },
  "language_info": {
   "codemirror_mode": {
    "name": "ipython",
    "version": 3
   },
   "file_extension": ".py",
   "mimetype": "text/x-python",
   "name": "python",
   "nbconvert_exporter": "python",
   "pygments_lexer": "ipython3",
   "version": "3.7.0"
  }
 },
 "nbformat": 4,
 "nbformat_minor": 2
}
